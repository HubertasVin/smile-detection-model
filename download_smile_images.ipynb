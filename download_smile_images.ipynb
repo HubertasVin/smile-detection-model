{
 "cells": [
  {
   "cell_type": "markdown",
   "id": "04e91ec2",
   "metadata": {},
   "source": [
    "# Download Smiling Images Notebook"
   ]
  },
  {
   "cell_type": "code",
   "execution_count": 1,
   "id": "917c6d50",
   "metadata": {},
   "outputs": [
    {
     "name": "stdout",
     "output_type": "stream",
     "text": [
      "Defaulting to user installation because normal site-packages is not writeable\n",
      "Requirement already satisfied: transformers in /home/hubertas/.local/lib/python3.13/site-packages (4.52.2)\n",
      "Requirement already satisfied: datasets in /home/hubertas/.local/lib/python3.13/site-packages (3.5.1)\n",
      "Requirement already satisfied: torchvision in /home/hubertas/.local/lib/python3.13/site-packages (0.22.0+rocm6.3)\n",
      "Requirement already satisfied: fsspec in /home/hubertas/.local/lib/python3.13/site-packages (2025.3.0)\n",
      "Requirement already satisfied: pyarrow in /home/hubertas/.local/lib/python3.13/site-packages (20.0.0)\n",
      "Requirement already satisfied: pillow in /usr/lib64/python3.13/site-packages (11.1.0)\n",
      "Requirement already satisfied: ipywidgets in /home/hubertas/.local/lib/python3.13/site-packages (8.1.6)\n",
      "Requirement already satisfied: filelock in /home/hubertas/.local/lib/python3.13/site-packages (from transformers) (3.18.0)\n",
      "Requirement already satisfied: huggingface-hub<1.0,>=0.30.0 in /home/hubertas/.local/lib/python3.13/site-packages (from transformers) (0.31.4)\n",
      "Requirement already satisfied: numpy>=1.17 in /home/hubertas/.local/lib/python3.13/site-packages (from transformers) (2.1.3)\n",
      "Requirement already satisfied: packaging>=20.0 in /usr/lib/python3.13/site-packages (from transformers) (24.2)\n",
      "Requirement already satisfied: pyyaml>=5.1 in /usr/lib64/python3.13/site-packages (from transformers) (6.0.2)\n",
      "Requirement already satisfied: regex!=2019.12.17 in /usr/lib64/python3.13/site-packages (from transformers) (2024.11.6)\n",
      "Requirement already satisfied: requests in /usr/lib/python3.13/site-packages (from transformers) (2.32.3)\n",
      "Requirement already satisfied: tokenizers<0.22,>=0.21 in /home/hubertas/.local/lib/python3.13/site-packages (from transformers) (0.21.1)\n",
      "Requirement already satisfied: safetensors>=0.4.3 in /home/hubertas/.local/lib/python3.13/site-packages (from transformers) (0.5.3)\n",
      "Requirement already satisfied: tqdm>=4.27 in /usr/lib/python3.13/site-packages (from transformers) (4.67.1)\n",
      "Requirement already satisfied: typing-extensions>=3.7.4.3 in /usr/lib/python3.13/site-packages (from huggingface-hub<1.0,>=0.30.0->transformers) (4.12.2)\n",
      "Requirement already satisfied: dill<0.3.9,>=0.3.0 in /home/hubertas/.local/lib/python3.13/site-packages (from datasets) (0.3.8)\n",
      "Requirement already satisfied: pandas in /home/hubertas/.local/lib/python3.13/site-packages (from datasets) (2.2.3)\n",
      "Requirement already satisfied: xxhash in /home/hubertas/.local/lib/python3.13/site-packages (from datasets) (3.5.0)\n",
      "Requirement already satisfied: multiprocess<0.70.17 in /home/hubertas/.local/lib/python3.13/site-packages (from datasets) (0.70.16)\n",
      "Requirement already satisfied: aiohttp in /usr/lib64/python3.13/site-packages (from datasets) (3.10.11)\n",
      "Requirement already satisfied: torch==2.7.0 in /home/hubertas/.local/lib/python3.13/site-packages (from torchvision) (2.7.0+rocm6.3)\n",
      "Requirement already satisfied: setuptools in /home/hubertas/.local/lib/python3.13/site-packages (from torch==2.7.0->torchvision) (79.0.1)\n",
      "Requirement already satisfied: sympy>=1.13.3 in /home/hubertas/.local/lib/python3.13/site-packages (from torch==2.7.0->torchvision) (1.14.0)\n",
      "Requirement already satisfied: networkx in /home/hubertas/.local/lib/python3.13/site-packages (from torch==2.7.0->torchvision) (3.4.2)\n",
      "Requirement already satisfied: jinja2 in /usr/lib/python3.13/site-packages (from torch==2.7.0->torchvision) (3.1.6)\n",
      "Requirement already satisfied: pytorch-triton-rocm==3.3.0 in /home/hubertas/.local/lib/python3.13/site-packages (from torch==2.7.0->torchvision) (3.3.0)\n",
      "Requirement already satisfied: comm>=0.1.3 in /home/hubertas/.local/lib/python3.13/site-packages (from ipywidgets) (0.2.2)\n",
      "Requirement already satisfied: ipython>=6.1.0 in /home/hubertas/.local/lib/python3.13/site-packages (from ipywidgets) (9.1.0)\n",
      "Requirement already satisfied: traitlets>=4.3.1 in /home/hubertas/.local/lib/python3.13/site-packages (from ipywidgets) (5.14.3)\n",
      "Requirement already satisfied: widgetsnbextension~=4.0.14 in /home/hubertas/.local/lib/python3.13/site-packages (from ipywidgets) (4.0.14)\n",
      "Requirement already satisfied: jupyterlab_widgets~=3.0.14 in /home/hubertas/.local/lib/python3.13/site-packages (from ipywidgets) (3.0.14)\n",
      "Requirement already satisfied: aiohappyeyeballs>=2.3.0 in /usr/lib/python3.13/site-packages (from aiohttp->datasets) (2.4.4)\n",
      "Requirement already satisfied: aiosignal>=1.1.2 in /usr/lib/python3.13/site-packages (from aiohttp->datasets) (1.3.2)\n",
      "Requirement already satisfied: attrs>=17.3.0 in /home/hubertas/.local/lib/python3.13/site-packages (from aiohttp->datasets) (25.3.0)\n",
      "Requirement already satisfied: frozenlist>=1.1.1 in /usr/lib64/python3.13/site-packages (from aiohttp->datasets) (1.5.0)\n",
      "Requirement already satisfied: multidict<7.0,>=4.5 in /usr/lib64/python3.13/site-packages (from aiohttp->datasets) (6.1.0)\n",
      "Requirement already satisfied: yarl<2.0,>=1.12.0 in /usr/lib64/python3.13/site-packages (from aiohttp->datasets) (1.13.1)\n",
      "Requirement already satisfied: idna>=2.0 in /usr/lib/python3.13/site-packages (from yarl<2.0,>=1.12.0->aiohttp->datasets) (3.10)\n",
      "Requirement already satisfied: decorator in /home/hubertas/.local/lib/python3.13/site-packages (from ipython>=6.1.0->ipywidgets) (5.2.1)\n",
      "Requirement already satisfied: ipython-pygments-lexers in /home/hubertas/.local/lib/python3.13/site-packages (from ipython>=6.1.0->ipywidgets) (1.1.1)\n",
      "Requirement already satisfied: jedi>=0.16 in /home/hubertas/.local/lib/python3.13/site-packages (from ipython>=6.1.0->ipywidgets) (0.19.2)\n",
      "Requirement already satisfied: matplotlib-inline in /home/hubertas/.local/lib/python3.13/site-packages (from ipython>=6.1.0->ipywidgets) (0.1.7)\n",
      "Requirement already satisfied: pexpect>4.3 in /usr/lib/python3.13/site-packages (from ipython>=6.1.0->ipywidgets) (4.9.0)\n",
      "Requirement already satisfied: prompt_toolkit<3.1.0,>=3.0.41 in /home/hubertas/.local/lib/python3.13/site-packages (from ipython>=6.1.0->ipywidgets) (3.0.51)\n",
      "Requirement already satisfied: pygments>=2.4.0 in /home/hubertas/.local/lib/python3.13/site-packages (from ipython>=6.1.0->ipywidgets) (2.19.1)\n",
      "Requirement already satisfied: stack_data in /home/hubertas/.local/lib/python3.13/site-packages (from ipython>=6.1.0->ipywidgets) (0.6.3)\n",
      "Requirement already satisfied: wcwidth in /usr/lib/python3.13/site-packages (from prompt_toolkit<3.1.0,>=3.0.41->ipython>=6.1.0->ipywidgets) (0.2.13)\n",
      "Requirement already satisfied: parso<0.9.0,>=0.8.4 in /home/hubertas/.local/lib/python3.13/site-packages (from jedi>=0.16->ipython>=6.1.0->ipywidgets) (0.8.4)\n",
      "Requirement already satisfied: ptyprocess>=0.5 in /usr/lib/python3.13/site-packages (from pexpect>4.3->ipython>=6.1.0->ipywidgets) (0.7.0)\n",
      "Requirement already satisfied: charset-normalizer<4,>=2 in /usr/lib/python3.13/site-packages (from requests->transformers) (3.4.1)\n",
      "Requirement already satisfied: urllib3<3,>=1.21.1 in /usr/lib/python3.13/site-packages (from requests->transformers) (2.3.0)\n",
      "Requirement already satisfied: mpmath<1.4,>=1.1.0 in /home/hubertas/.local/lib/python3.13/site-packages (from sympy>=1.13.3->torch==2.7.0->torchvision) (1.3.0)\n",
      "Requirement already satisfied: MarkupSafe>=2.0 in /usr/lib64/python3.13/site-packages (from jinja2->torch==2.7.0->torchvision) (3.0.2)\n",
      "Requirement already satisfied: python-dateutil>=2.8.2 in /usr/lib/python3.13/site-packages (from pandas->datasets) (2.8.2)\n",
      "Requirement already satisfied: pytz>=2020.1 in /home/hubertas/.local/lib/python3.13/site-packages (from pandas->datasets) (2025.1)\n",
      "Requirement already satisfied: tzdata>=2022.7 in /home/hubertas/.local/lib/python3.13/site-packages (from pandas->datasets) (2025.1)\n",
      "Requirement already satisfied: six>=1.5 in /usr/lib/python3.13/site-packages (from python-dateutil>=2.8.2->pandas->datasets) (1.17.0)\n",
      "Requirement already satisfied: executing>=1.2.0 in /home/hubertas/.local/lib/python3.13/site-packages (from stack_data->ipython>=6.1.0->ipywidgets) (2.2.0)\n",
      "Requirement already satisfied: asttokens>=2.1.0 in /home/hubertas/.local/lib/python3.13/site-packages (from stack_data->ipython>=6.1.0->ipywidgets) (3.0.0)\n",
      "Requirement already satisfied: pure-eval in /home/hubertas/.local/lib/python3.13/site-packages (from stack_data->ipython>=6.1.0->ipywidgets) (0.2.3)\n",
      "Note: you may need to restart the kernel to use updated packages.\n"
     ]
    }
   ],
   "source": [
    "%pip install transformers datasets torchvision fsspec pyarrow pillow ipywidgets"
   ]
  },
  {
   "cell_type": "code",
   "execution_count": 2,
   "id": "cbfbcae0",
   "metadata": {},
   "outputs": [
    {
     "name": "stderr",
     "output_type": "stream",
     "text": [
      "2025-05-22 20:23:26.199190: I tensorflow/core/platform/cpu_feature_guard.cc:210] This TensorFlow binary is optimized to use available CPU instructions in performance-critical operations.\n",
      "To enable the following instructions: AVX2 FMA, in other operations, rebuild TensorFlow with the appropriate compiler flags.\n",
      "Using a slow image processor as `use_fast` is unset and a slow processor was saved with this model. `use_fast=True` will be the default behavior in v4.52, even if the model was saved with a slow processor. This will result in minor differences in outputs. You'll still be able to use a slow processor with `use_fast=False`.\n"
     ]
    },
    {
     "name": "stdout",
     "output_type": "stream",
     "text": [
      "Found 343118 entries containing 'smil' in caption.\n"
     ]
    }
   ],
   "source": [
    "from transformers import CLIPProcessor, CLIPModel\n",
    "import torch\n",
    "import fsspec\n",
    "import pyarrow.parquet as pq\n",
    "import pandas as pd\n",
    "import numpy as np\n",
    "\n",
    "# Load CLIP model and processor\n",
    "model = CLIPModel.from_pretrained(\"openai/clip-vit-base-patch32\")\n",
    "processor = CLIPProcessor.from_pretrained(\"openai/clip-vit-base-patch32\")\n",
    "device = \"cuda\" if torch.cuda.is_available() else \"cpu\"\n",
    "model.to(device).eval()\n",
    "\n",
    "# Load dataset\n",
    "fs = fsspec.filesystem(\"hf\")\n",
    "with fs.open(\"datasets/OpenFace-CQUPT/FaceCaption-15M/FaceCaption-v2.parquet\") as f:\n",
    "    pq_file = pq.ParquetFile(f)\n",
    "    table = pq_file.read_row_group(0, columns=['caption','url'])\n",
    "    df = table.to_pandas()\n",
    "\n",
    "# Filter nulls and valid captions\n",
    "df = df[df['caption'].notnull() & df['url'].notnull()]\n",
    "df = df[df['caption'].apply(lambda x: isinstance(x, (list, np.ndarray)) and len(x)>0)]\n",
    "df['caption_text'] = df['caption'].apply(lambda x: str(x[0]).strip().lower())\n",
    "df['url'] = df['url'].apply(lambda x: x.split(',')[0].strip())\n",
    "\n",
    "# Filter for 'smil' in caption\n",
    "df_smile = df[df['caption_text'].str.contains('smil', na=False)]\n",
    "print(f\"Found {len(df_smile)} entries containing 'smil' in caption.\")"
   ]
  },
  {
   "cell_type": "code",
   "execution_count": null,
   "id": "88cee150",
   "metadata": {},
   "outputs": [],
   "source": [
    "from ipywidgets import ToggleButton, Output\n",
    "from IPython.display import display\n",
    "import os\n",
    "import json\n",
    "import numpy as np\n",
    "from PIL import Image\n",
    "from io import BytesIO\n",
    "import requests\n",
    "\n",
    "# Constants and directories\n",
    "DOWNLOAD_COUNT = 2000\n",
    "images_dir = \"smile_images\"\n",
    "metadata_dir = \"smile_metadata\"\n",
    "os.makedirs(images_dir, exist_ok=True)\n",
    "os.makedirs(metadata_dir, exist_ok=True)\n",
    "\n",
    "download_output = Output()\n",
    "\n",
    "DOWNLOAD_DATA = True\n",
    "if DOWNLOAD_DATA:\n",
    "    download_output.clear_output()\n",
    "    with download_output:\n",
    "        saved = 0\n",
    "        for idx, row in enumerate(df_smile.itertuples(index=False), start=1):\n",
    "            if saved >= DOWNLOAD_COUNT:\n",
    "                break\n",
    "            try:\n",
    "                resp = requests.get(row.url, timeout=5)\n",
    "                resp.raise_for_status()\n",
    "                img = Image.open(BytesIO(resp.content)).convert(\"RGB\")\n",
    "            except Exception:\n",
    "                continue\n",
    "            # Save image\n",
    "            img_filename = f\"smil_{idx:05d}.jpg\"\n",
    "            img.save(os.path.join(images_dir, img_filename))\n",
    "            # Prepare metadata\n",
    "            raw_caption = row.caption if isinstance(row.caption, list) else (\n",
    "                row.caption.tolist() if isinstance(row.caption, np.ndarray) else [row.caption]\n",
    "            )\n",
    "            metadata = {\n",
    "                \"url\": row.url,\n",
    "                \"caption_text\": row.caption_text,\n",
    "                \"raw_caption\": raw_caption\n",
    "            }\n",
    "            # Save metadata\n",
    "            meta_filename = f\"smil_{idx:05d}.json\"\n",
    "            with open(os.path.join(metadata_dir, meta_filename), \"w\", encoding=\"utf-8\") as f:\n",
    "                json.dump(metadata, f, ensure_ascii=False, indent=2)\n",
    "            saved += 1\n",
    "        print(f\"Saved {saved} images and metadata to '{images_dir}' and '{metadata_dir}'\")"
   ]
  }
 ],
 "metadata": {
  "kernelspec": {
   "display_name": "Python 3",
   "language": "python",
   "name": "python3"
  },
  "language_info": {
   "codemirror_mode": {
    "name": "ipython",
    "version": 3
   },
   "file_extension": ".py",
   "mimetype": "text/x-python",
   "name": "python",
   "nbconvert_exporter": "python",
   "pygments_lexer": "ipython3",
   "version": "3.13.3"
  }
 },
 "nbformat": 4,
 "nbformat_minor": 5
}
